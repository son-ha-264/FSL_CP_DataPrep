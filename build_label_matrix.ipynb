{
 "cells": [
  {
   "cell_type": "code",
   "execution_count": 1,
   "id": "53eaa698",
   "metadata": {},
   "outputs": [],
   "source": [
    "import math\n",
    "from os import path\n",
    "from glob import glob\n",
    "from tqdm import tqdm_notebook as tqdm\n",
    "import numpy as np\n",
    "import pandas\n",
    "from scipy.io import mmread, mmwrite\n",
    "from scipy.sparse import hstack, dok_matrix\n",
    "from rdkit import Chem"
   ]
  },
  {
   "cell_type": "code",
   "execution_count": 2,
   "id": "7d602a55",
   "metadata": {},
   "outputs": [],
   "source": [
    "chembl_version=29\n",
    "basepath = \"/home/son.ha/FSL_CP_DataPrep/temp\"\n",
    "\n",
    "# cellpainting\n",
    "path_compound_image_map = path.join(basepath, \"cellpainting-index.csv\")\n",
    "\n",
    "# regression\n",
    "path_regression_idx_assays = path.join(basepath, \"chembl{}-regression-assay-index.csv\".format(chembl_version))\n",
    "path_regression_idx_compounds = path.join(basepath, \"chembl{}-regression-compound-index.csv\".format(chembl_version))\n",
    "path_regression_values = path.join(basepath, \"chembl{}-regression-values.mtx\".format(chembl_version))\n",
    "\n",
    "# classification\n",
    "path_classification_idx_assays = path.join(basepath, \"chembl{}-classification-assay-index.csv\".format(chembl_version))\n",
    "path_classification_idx_compounds = path.join(basepath, \"chembl{}-classification-compound-index.csv\".format(chembl_version))\n",
    "path_classification_values = path.join(basepath, \"chembl{}-classification-values.mtx\".format(chembl_version))\n",
    "\n",
    "# output\n",
    "path_result = path.join(basepath, \"chembl{}-label-matrix\".format(chembl_version))\n",
    "path_result_asy = path.join(basepath, \"chembl{}-labels-assay-index.csv\".format(chembl_version))\n",
    "path_result_cpd = path.join(basepath, \"chembl{}-labels-compound-index.csv\".format(chembl_version))"
   ]
  },
  {
   "cell_type": "code",
   "execution_count": 3,
   "id": "4771e595",
   "metadata": {},
   "outputs": [],
   "source": [
    "idx_cellpainting = pandas.read_csv(path_compound_image_map, sep=\",\", header=0)\n",
    "idx_cellpainting = idx_cellpainting.iloc[:,0:3].copy(deep=True)"
   ]
  },
  {
   "cell_type": "code",
   "execution_count": 4,
   "id": "321f2b5c",
   "metadata": {},
   "outputs": [],
   "source": [
    "idx_reg_cpd = pandas.read_csv(path_regression_idx_compounds, sep=\",\", header=0)\n",
    "idx_reg_asy = pandas.read_csv(path_regression_idx_assays, sep=\",\", header=0)\n",
    "idx_cls_cpd = pandas.read_csv(path_classification_idx_compounds, sep=\",\", header=0)\n",
    "idx_cls_asy = pandas.read_csv(path_classification_idx_assays, sep=\",\", header=0)"
   ]
  },
  {
   "cell_type": "code",
   "execution_count": 5,
   "id": "babd025f",
   "metadata": {},
   "outputs": [],
   "source": [
    "reg_val = mmread(path_regression_values).tolil()\n",
    "cls_val = mmread(path_classification_values).tolil()"
   ]
  },
  {
   "cell_type": "code",
   "execution_count": 6,
   "id": "bdf23b42",
   "metadata": {},
   "outputs": [],
   "source": [
    "clp_inchi = idx_cellpainting[\"INCHIKEY\"].unique().tolist()\n",
    "clp_inchi_in_chembl_reg = idx_reg_cpd[idx_reg_cpd[\"INCHIKEY\"].isin(clp_inchi)][[\"INDEX\", \"INCHIKEY\"]]\n",
    "clp_inchi_in_chembl_cls = idx_cls_cpd[idx_cls_cpd[\"INCHIKEY\"].isin(clp_inchi)][[\"INDEX\", \"INCHIKEY\"]]\n",
    "cls_reg_map = clp_inchi_in_chembl_cls.merge(clp_inchi_in_chembl_reg, on=\"INCHIKEY\", how=\"outer\")\n",
    "cls_reg_map = cls_reg_map.rename(index=str, columns={\"INDEX_x\": \"INDEX_CLS\", \"INDEX_y\": \"INDEX_REG\"})"
   ]
  },
  {
   "cell_type": "code",
   "execution_count": 7,
   "id": "6c70a820",
   "metadata": {},
   "outputs": [
    {
     "name": "stdout",
     "output_type": "stream",
     "text": [
      "=== Cellpainting Stats ===\n",
      "Total Images: 126798\n",
      "Unique INCHIKEYS: 30405\n",
      "Compounds in ChEMBL Regression Matrix: 10841\n",
      "Compounds in ChEMBL Classification Matrix: 11179\n",
      "Total Compounds: 11601\n"
     ]
    }
   ],
   "source": [
    "print(\"=== Cellpainting Stats ===\")\n",
    "print(\"Total Images: {}\".format(len(idx_cellpainting)))\n",
    "print(\"Unique INCHIKEYS: {}\".format(len(clp_inchi)))\n",
    "print(\"Compounds in ChEMBL Regression Matrix: {}\".format(len(clp_inchi_in_chembl_reg)))\n",
    "print(\"Compounds in ChEMBL Classification Matrix: {}\".format(len(clp_inchi_in_chembl_cls)))\n",
    "print(\"Total Compounds: {}\".format(len(cls_reg_map)))"
   ]
  },
  {
   "cell_type": "code",
   "execution_count": 8,
   "id": "0ae79a2b",
   "metadata": {},
   "outputs": [],
   "source": [
    "#reg_val = reg_val[clp_inchi_in_chembl_reg[\"INDEX\"].tolist()]"
   ]
  },
  {
   "cell_type": "code",
   "execution_count": 9,
   "id": "1585d53f",
   "metadata": {},
   "outputs": [],
   "source": [
    "#cls_val = cls_val[clp_inchi_in_chembl_cls[\"INDEX\"].tolist()]"
   ]
  },
  {
   "cell_type": "code",
   "execution_count": 10,
   "id": "859232de",
   "metadata": {},
   "outputs": [],
   "source": [
    "def extract_assays_with_threshold(mtx, assay_idx, pchembl_thresh, min_cpd_per_class=10):\n",
    "    mtx = mtx.tocsc()\n",
    "    # threshold\n",
    "    mtx.data[(mtx.data != 0) & (mtx.data < pchembl_thresh)] = -1\n",
    "    mtx.data[mtx.data >= pchembl_thresh] = 1\n",
    "    # min compounds per class\n",
    "    active = ((mtx == 1).sum(0) >= min_cpd_per_class).tolist()[0]\n",
    "    inactive = ((mtx == -1).sum(0) >= min_cpd_per_class).tolist()[0]\n",
    "    both = np.where([a and b for a, b in zip(active, inactive)])[0]\n",
    "    return mtx[:, both], assay_idx.iloc[both]\n",
    "\n",
    "def extract_assays_with_min_cpd_per_class(mtx, assay_idx, min_cpd_per_class=10):\n",
    "    mtx = mtx.tocsc()\n",
    "    active = ((mtx == 1).sum(0) >= min_cpd_per_class).tolist()[0]\n",
    "    inactive = ((mtx == -1).sum(0) >= min_cpd_per_class).tolist()[0]\n",
    "    both = np.where([a and b for a, b in zip(active, inactive)])[0]\n",
    "    return mtx[:, both], assay_idx.iloc[both]\n",
    "\n",
    "def remove_empty_compounds(mtx, cpd_idx):    \n",
    "    empty = set()\n",
    "    for i, row in enumerate(mtx.tolil().rows):\n",
    "        if len(row) == 0:\n",
    "            empty.add(i)\n",
    "    valid = [i for i in range(0, mtx.shape[0]) if i not in empty]\n",
    "    return mtx[valid, :], cpd_idx.iloc[valid].reset_index(level=0)"
   ]
  },
  {
   "cell_type": "code",
   "execution_count": 11,
   "id": "f6b4d895",
   "metadata": {},
   "outputs": [],
   "source": [
    "import pandas as pd\n",
    "lbl_reg5, assays_reg5 = extract_assays_with_threshold(reg_val, idx_reg_asy, 5.5, 10)\n",
    "lbl_reg6, assays_reg6 = extract_assays_with_threshold(reg_val, idx_reg_asy, 6.5, 10)\n",
    "lbl_reg7, assays_reg7 = extract_assays_with_threshold(reg_val, idx_reg_asy, 7.5, 10)\n",
    "lbl_reg = hstack([lbl_reg5, lbl_reg6, lbl_reg7])\n",
    "#assays_reg = assays_reg5.append(assays_reg6).append(assays_reg7)\n",
    "assays_reg = pd.concat([assays_reg5, assays_reg6, assays_reg7])\n",
    "lbl_cls, assays_cls = extract_assays_with_min_cpd_per_class(cls_val, idx_cls_asy, 10)\n",
    "lbl_cls.data[lbl_cls.data < -1] = -1\n",
    "lbl_cls.data[lbl_cls.data > 1] = 1\n",
    "#assay_idx = assays_reg5.append(assays_reg6).append(assays_reg7).append(assays_cls)\n",
    "assay_idx = pd.concat([assays_reg5, assays_reg6, assays_reg7, assays_cls])"
   ]
  },
  {
   "cell_type": "code",
   "execution_count": 12,
   "id": "cc590da9",
   "metadata": {},
   "outputs": [
    {
     "name": "stdout",
     "output_type": "stream",
     "text": [
      "11601/11601\r"
     ]
    }
   ],
   "source": [
    "n_row = len(cls_reg_map)\n",
    "n_col_reg = lbl_reg.shape[1]\n",
    "n_col_cls = lbl_cls.shape[1]\n",
    "n_col = n_col_reg + n_col_cls\n",
    "mat_reg = reg_val.tocsr()\n",
    "mat_cls = cls_val.tocsr()\n",
    "mat_all = dok_matrix((n_row, n_col), dtype=np.int8)\n",
    "\n",
    "## Merge label matrices\n",
    "for i, row in enumerate(cls_reg_map.itertuples(index=False)):\n",
    "    idx_reg = row.INDEX_REG\n",
    "    idx_cls = row.INDEX_CLS\n",
    "    row_candidate = np.zeros((1, n_col), dtype=np.int8)\n",
    "    if not math.isnan(idx_reg):\n",
    "        row_candidate[0, 0:n_col_reg] = lbl_reg[int(idx_reg)].todense()\n",
    "    if not math.isnan(idx_cls):\n",
    "        row_candidate[0, n_col_reg:] = lbl_cls[int(idx_cls)].todense()\n",
    "    mat_all[i] = row_candidate\n",
    "    print(\"{}/{}\".format(i + 1, len(cls_reg_map)), end=\"\\r\")\n",
    "mat_all, asy_all = extract_assays_with_min_cpd_per_class(mat_all, assay_idx, 10)\n",
    "mat_all, cls_reg_map = remove_empty_compounds(mat_all, cls_reg_map)\n",
    "n_row = mat_all.shape[0]"
   ]
  },
  {
   "cell_type": "code",
   "execution_count": 13,
   "id": "f00d1cc2",
   "metadata": {},
   "outputs": [
    {
     "data": {
      "text/plain": [
       "(10561, 207)"
      ]
     },
     "execution_count": 13,
     "metadata": {},
     "output_type": "execute_result"
    }
   ],
   "source": [
    "mat_all.shape"
   ]
  },
  {
   "cell_type": "code",
   "execution_count": 19,
   "id": "bbfae84f",
   "metadata": {},
   "outputs": [],
   "source": [
    "# produces matrix with inactive and active counts for each assay in the label matrix\n",
    "def print_assay_stats(mtx, verbose=True):\n",
    "    mtx_dense = mtx.todense()\n",
    "    stats = np.zeros((mtx_dense.shape[1], 2), dtype=int)\n",
    "    if verbose:\n",
    "        print(\"Assay\\tActive\\tInactive\")\n",
    "    for i, col in enumerate(mtx_dense.T):\n",
    "        uniques = np.unique(col.tolist(), return_counts=True)\n",
    "        vals = dict(zip(uniques[0], uniques[1]))\n",
    "        if not -1 in vals:\n",
    "            vals[-1] = 0\n",
    "        if not 1 in vals:\n",
    "            vals[1] = 0\n",
    "        stats[i] = [vals[-1], vals[1]]\n",
    "        if verbose:\n",
    "            print(\"{}\\t{}\\t{}\".format(asy_all.iloc[i][\"ASSAY_ID\"], stats[i][1], stats[i][0]))\n",
    "    return stats, asy_all.iloc[i][\"ASSAY_ID\"]"
   ]
  },
  {
   "cell_type": "code",
   "execution_count": 20,
   "id": "26fc725b",
   "metadata": {},
   "outputs": [
    {
     "name": "stdout",
     "output_type": "stream",
     "text": [
      "=== Stats ===\n",
      "Compounds: 10561\n",
      "Compound Index: 10561\n",
      "Assays: 207\n",
      "Assay Index: 207\n",
      "Percentage Non-zero: 0.0252\n",
      "\n",
      "\n",
      "Assay\tActive\tInactive\n",
      "737823\t10\t15\n",
      "688422\t30\t62\n",
      "688497\t14\t37\n",
      "688810\t22\t46\n",
      "688812\t35\t30\n",
      "688816\t30\t66\n",
      "688721\t13\t39\n",
      "688724\t12\t30\n",
      "688739\t11\t94\n",
      "688759\t16\t65\n",
      "688238\t20\t167\n",
      "688239\t66\t116\n",
      "688157\t20\t69\n",
      "688171\t10\t29\n",
      "688317\t13\t88\n",
      "688341\t12\t28\n",
      "688267\t45\t72\n",
      "688360\t31\t20\n",
      "688620\t23\t93\n",
      "688653\t22\t46\n",
      "688612\t11\t36\n",
      "600885\t45\t86\n",
      "600886\t64\t70\n",
      "688422\t17\t75\n",
      "688816\t14\t82\n",
      "688239\t24\t158\n",
      "688422\t11\t81\n",
      "688239\t10\t172\n",
      "737822\t237\t595\n",
      "737826\t262\t538\n",
      "737823\t429\t340\n",
      "737824\t342\t498\n",
      "737825\t278\t501\n",
      "752386\t135\t20\n",
      "752310\t100\t60\n",
      "809005\t53\t13\n",
      "1301435\t13\t15\n",
      "1301666\t36\t17\n",
      "1495242\t10\t131\n",
      "1495404\t15\t125\n",
      "1495405\t128\t263\n",
      "1495415\t114\t251\n",
      "737121\t14\t30\n",
      "737370\t24\t15\n",
      "737357\t26\t62\n",
      "737098\t28\t10\n",
      "688444\t51\t27\n",
      "688279\t16\t57\n",
      "809021\t24\t59\n",
      "809009\t17\t118\n",
      "809014\t16\t156\n",
      "809018\t21\t156\n",
      "809022\t19\t154\n",
      "809023\t16\t154\n",
      "809024\t18\t147\n",
      "809027\t24\t140\n",
      "809031\t14\t128\n",
      "809032\t21\t153\n",
      "809035\t22\t150\n",
      "809039\t18\t147\n",
      "809044\t25\t147\n",
      "809048\t17\t141\n",
      "809051\t20\t151\n",
      "809054\t21\t156\n",
      "809057\t15\t156\n",
      "809059\t14\t130\n",
      "809061\t22\t157\n",
      "809062\t19\t156\n",
      "809073\t16\t158\n",
      "809076\t13\t47\n",
      "809077\t10\t129\n",
      "809079\t23\t137\n",
      "809080\t11\t159\n",
      "809086\t21\t156\n",
      "809089\t23\t141\n",
      "809091\t19\t156\n",
      "809099\t19\t154\n",
      "809100\t11\t46\n",
      "809101\t17\t152\n",
      "809102\t21\t151\n",
      "809105\t14\t154\n",
      "809106\t22\t147\n",
      "809113\t15\t106\n",
      "809292\t16\t156\n",
      "809302\t18\t159\n",
      "809308\t15\t141\n",
      "809314\t19\t151\n",
      "809316\t23\t156\n",
      "809322\t22\t155\n",
      "809324\t16\t159\n",
      "809328\t16\t157\n",
      "809330\t22\t122\n",
      "809333\t14\t129\n",
      "809335\t15\t47\n",
      "809337\t11\t35\n",
      "809343\t17\t149\n",
      "809348\t13\t126\n",
      "809349\t19\t150\n",
      "809351\t20\t149\n",
      "809359\t20\t149\n",
      "809369\t19\t123\n",
      "809370\t19\t161\n",
      "809377\t20\t156\n",
      "809393\t17\t118\n",
      "809401\t18\t155\n",
      "809408\t15\t158\n",
      "809409\t26\t150\n",
      "809411\t13\t48\n",
      "809423\t12\t156\n",
      "809425\t19\t154\n",
      "809426\t12\t163\n",
      "809428\t16\t135\n",
      "809431\t19\t156\n",
      "737256\t10\t14\n",
      "737262\t10\t47\n",
      "737390\t23\t13\n",
      "737452\t25\t41\n",
      "737622\t11\t13\n",
      "737212\t13\t25\n",
      "737403\t23\t15\n",
      "737353\t10\t14\n",
      "737421\t23\t43\n",
      "736962\t18\t27\n",
      "737022\t16\t29\n",
      "737053\t59\t38\n",
      "752398\t12\t10\n",
      "752327\t13\t40\n",
      "752533\t13\t40\n",
      "809336\t15\t37\n",
      "845098\t23\t17\n",
      "845258\t23\t17\n",
      "1495389\t10\t24\n",
      "1495390\t11\t11\n",
      "1495392\t11\t23\n",
      "1495393\t18\t18\n",
      "1495295\t14\t18\n",
      "1495296\t18\t18\n",
      "1495265\t16\t20\n",
      "1495307\t15\t19\n",
      "1495312\t24\t24\n",
      "1495290\t19\t15\n",
      "1495338\t14\t20\n",
      "1495260\t10\t24\n",
      "1495408\t11\t23\n",
      "737187\t590\t225\n",
      "737127\t16\t55\n",
      "737173\t10\t23\n",
      "737400\t56\t103\n",
      "737623\t10\t80\n",
      "737717\t39\t37\n",
      "737718\t24\t13\n",
      "737287\t279\t73\n",
      "737344\t1362\t414\n",
      "737407\t73\t52\n",
      "736947\t609\t334\n",
      "736963\t67\t391\n",
      "752347\t228\t98\n",
      "752328\t34\t21\n",
      "752407\t851\t1940\n",
      "752411\t78\t1858\n",
      "752493\t173\t1742\n",
      "752471\t13\t243\n",
      "752434\t189\t532\n",
      "752496\t58\t57\n",
      "752509\t44\t83\n",
      "752563\t106\t1702\n",
      "752546\t112\t21\n",
      "752522\t49\t28\n",
      "752590\t841\t1825\n",
      "752594\t171\t214\n",
      "752477\t40\t24\n",
      "809095\t52\t56\n",
      "809421\t20\t18\n",
      "845045\t517\t199\n",
      "845063\t20\t361\n",
      "845102\t416\t115\n",
      "845127\t39\t312\n",
      "845164\t532\t83\n",
      "845133\t25\t18\n",
      "845169\t293\t487\n",
      "845173\t151\t208\n",
      "845177\t227\t628\n",
      "845185\t74\t18\n",
      "845196\t255\t126\n",
      "845199\t26\t1727\n",
      "845186\t16\t11\n",
      "845225\t38\t192\n",
      "845231\t21\t21\n",
      "954272\t2156\t11\n",
      "954305\t1763\t19\n",
      "954338\t242\t157\n",
      "954333\t21\t178\n",
      "1301428\t28\t15\n",
      "1301460\t78\t30\n",
      "1301485\t22\t67\n",
      "1301620\t27\t1015\n",
      "1301608\t133\t50\n",
      "1301593\t11\t16\n",
      "1301717\t395\t32\n",
      "1301709\t76\t47\n",
      "688671\t68\t718\n",
      "845206\t62\t95\n",
      "1301866\t214\t91\n",
      "1301890\t16\t51\n",
      "1301859\t16\t20\n",
      "1301893\t62\t16\n",
      "1495346\t223\t1331\n"
     ]
    }
   ],
   "source": [
    "\n",
    "print(\"=== Stats ===\")\n",
    "print(\"Compounds: {}\".format(mat_all.shape[0]))\n",
    "print(\"Compound Index: {}\".format(cls_reg_map.shape[0]))\n",
    "print(\"Assays: {}\".format(mat_all.shape[1]))\n",
    "print(\"Assay Index: {}\".format(asy_all.shape[0]))\n",
    "print(\"Percentage Non-zero: {:.4f}\".format(mat_all.nnz / (mat_all.shape[0] * mat_all.shape[1])))\n",
    "print(\"\\n\")\n",
    "_\n",
    "stats, _ = print_assay_stats(mat_all)"
   ]
  },
  {
   "cell_type": "code",
   "execution_count": 21,
   "id": "de1e5859",
   "metadata": {},
   "outputs": [
    {
     "data": {
      "text/plain": [
       "Text(0, 0.5, 'Number of assays')"
      ]
     },
     "execution_count": 21,
     "metadata": {},
     "output_type": "execute_result"
    },
    {
     "data": {
      "image/png": "[encoded data removed]",
      "text/plain": [
       "<Figure size 432x288 with 1 Axes>"
      ]
     },
     "metadata": {},
     "output_type": "display_data"
    }
   ],
   "source": [
    "import matplotlib.pyplot as plt\n",
    "from matplotlib import rcParams, style\n",
    "style.use('ggplot')\n",
    "\n",
    "n_datapoints = stats[:,0]+stats[:,1]\n",
    "plt.gcf().clf()\n",
    "plt.hist(n_datapoints, bins=100, range=(0,3000), color=\"#2d72d8\")\n",
    "#plt.xscale(\"log\")\n",
    "plt.title(\"Datapoints per Assay\")\n",
    "plt.xlabel(\"Number of datapoints\")\n",
    "plt.ylabel(\"Number of assays\")\n",
    "#plt.savefig(\"datapoints_per_assay.pdf\", dpi=300)"
   ]
  },
  {
   "cell_type": "code",
   "execution_count": 22,
   "id": "ff6d0183",
   "metadata": {},
   "outputs": [],
   "source": [
    "mmwrite(path_result, mat_all.tocsc())\n",
    "asy_all.to_csv(path_result_asy, sep=\",\", header=\"ASSAY_ID\", index=False)\n",
    "cls_reg_map[\"INCHIKEY\"].to_csv(path_result_cpd, sep=\",\", header=\"INCHIKEY\", index=True, index_label=\"INDEX\")"
   ]
  }
 ],
 "metadata": {
  "kernelspec": {
   "display_name": "Python 3.9.13 ('myenv')",
   "language": "python",
   "name": "python3"
  },
  "language_info": {
   "codemirror_mode": {
    "name": "ipython",
    "version": 3
   },
   "file_extension": ".py",
   "mimetype": "text/x-python",
   "name": "python",
   "nbconvert_exporter": "python",
   "pygments_lexer": "ipython3",
   "version": "3.9.13"
  },
  "vscode": {
   "interpreter": {
    "hash": "10316af22c25afef02586b059330728af6980e41a2ff253fb3fe115ef68c8368"
   }
  }
 },
 "nbformat": 4,
 "nbformat_minor": 5
}
