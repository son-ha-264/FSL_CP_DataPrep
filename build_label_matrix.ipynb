{
 "cells": [
  {
   "cell_type": "code",
   "execution_count": 1,
   "id": "53eaa698",
   "metadata": {},
   "outputs": [],
   "source": [
    "import math\n",
    "from os import path\n",
    "from glob import glob\n",
    "from tqdm import tqdm_notebook as tqdm\n",
    "import numpy as np\n",
    "import pandas\n",
    "from scipy.io import mmread, mmwrite\n",
    "from scipy.sparse import hstack, dok_matrix\n",
    "from rdkit import Chem"
   ]
  },
  {
   "cell_type": "code",
   "execution_count": 2,
   "id": "7d602a55",
   "metadata": {},
   "outputs": [],
   "source": [
    "chembl_version=29\n",
    "basepath = \".\"\n",
    "\n",
    "# cellpainting\n",
    "path_compound_image_map = path.join(basepath, \"cellpainting-index.csv\")\n",
    "\n",
    "# regression\n",
    "path_regression_idx_assays = path.join(basepath, \"chembl{}-regression-assay-index.csv\".format(chembl_version))\n",
    "path_regression_idx_compounds = path.join(basepath, \"chembl{}-regression-compound-index.csv\".format(chembl_version))\n",
    "path_regression_values = path.join(basepath, \"chembl{}-regression-values.mtx\".format(chembl_version))\n",
    "\n",
    "# classification\n",
    "path_classification_idx_assays = path.join(basepath, \"chembl{}-classification-assay-index.csv\".format(chembl_version))\n",
    "path_classification_idx_compounds = path.join(basepath, \"chembl{}-classification-compound-index.csv\".format(chembl_version))\n",
    "path_classification_values = path.join(basepath, \"chembl{}-classification-values.mtx\".format(chembl_version))\n",
    "\n",
    "# output\n",
    "path_result = path.join(basepath, \"chembl{}-label-matrix\".format(chembl_version))\n",
    "path_result_asy = path.join(basepath, \"chembl{}-labels-assay-index.csv\".format(chembl_version))\n",
    "path_result_cpd = path.join(basepath, \"chembl{}-labels-compound-index.csv\".format(chembl_version))"
   ]
  },
  {
   "cell_type": "code",
   "execution_count": 3,
   "id": "4771e595",
   "metadata": {},
   "outputs": [],
   "source": [
    "idx_cellpainting = pandas.read_csv(path_compound_image_map, sep=\",\", header=0)"
   ]
  },
  {
   "cell_type": "code",
   "execution_count": 4,
   "id": "321f2b5c",
   "metadata": {},
   "outputs": [],
   "source": [
    "idx_reg_cpd = pandas.read_csv(path_regression_idx_compounds, sep=\",\", header=0)\n",
    "idx_reg_asy = pandas.read_csv(path_regression_idx_assays, sep=\",\", header=0)\n",
    "idx_cls_cpd = pandas.read_csv(path_classification_idx_compounds, sep=\",\", header=0)\n",
    "idx_cls_asy = pandas.read_csv(path_classification_idx_assays, sep=\",\", header=0)"
   ]
  },
  {
   "cell_type": "code",
   "execution_count": 5,
   "id": "babd025f",
   "metadata": {},
   "outputs": [],
   "source": [
    "reg_val = mmread(path_regression_values).tolil()\n",
    "cls_val = mmread(path_classification_values).tolil()"
   ]
  },
  {
   "cell_type": "code",
   "execution_count": 6,
   "id": "bdf23b42",
   "metadata": {},
   "outputs": [],
   "source": [
    "clp_inchi = idx_cellpainting[\"INCHIKEY\"].unique().tolist()\n",
    "clp_inchi_in_chembl_reg = idx_reg_cpd[idx_reg_cpd[\"INCHIKEY\"].isin(clp_inchi)][[\"INDEX\", \"INCHIKEY\"]]\n",
    "clp_inchi_in_chembl_cls = idx_cls_cpd[idx_cls_cpd[\"INCHIKEY\"].isin(clp_inchi)][[\"INDEX\", \"INCHIKEY\"]]\n",
    "cls_reg_map = clp_inchi_in_chembl_cls.merge(clp_inchi_in_chembl_reg, on=\"INCHIKEY\", how=\"outer\")\n",
    "cls_reg_map = cls_reg_map.rename(index=str, columns={\"INDEX_x\": \"INDEX_CLS\", \"INDEX_y\": \"INDEX_REG\"})"
   ]
  },
  {
   "cell_type": "code",
   "execution_count": 7,
   "id": "6c70a820",
   "metadata": {},
   "outputs": [
    {
     "name": "stdout",
     "output_type": "stream",
     "text": [
      "=== Cellpainting Stats ===\n",
      "Total Images: 126779\n",
      "Unique INCHIKEYS: 30404\n",
      "Compounds in ChEMBL Regression Matrix: 10841\n",
      "Compounds in ChEMBL Classification Matrix: 11179\n",
      "Total Compounds: 11601\n"
     ]
    }
   ],
   "source": [
    "print(\"=== Cellpainting Stats ===\")\n",
    "print(\"Total Images: {}\".format(len(idx_cellpainting)))\n",
    "print(\"Unique INCHIKEYS: {}\".format(len(clp_inchi)))\n",
    "print(\"Compounds in ChEMBL Regression Matrix: {}\".format(len(clp_inchi_in_chembl_reg)))\n",
    "print(\"Compounds in ChEMBL Classification Matrix: {}\".format(len(clp_inchi_in_chembl_cls)))\n",
    "print(\"Total Compounds: {}\".format(len(cls_reg_map)))"
   ]
  },
  {
   "cell_type": "code",
   "execution_count": 8,
   "id": "0ae79a2b",
   "metadata": {},
   "outputs": [],
   "source": [
    "#reg_val = reg_val[clp_inchi_in_chembl_reg[\"INDEX\"].tolist()]"
   ]
  },
  {
   "cell_type": "code",
   "execution_count": 9,
   "id": "1585d53f",
   "metadata": {},
   "outputs": [],
   "source": [
    "#cls_val = cls_val[clp_inchi_in_chembl_cls[\"INDEX\"].tolist()]"
   ]
  },
  {
   "cell_type": "code",
   "execution_count": 10,
   "id": "859232de",
   "metadata": {},
   "outputs": [],
   "source": [
    "def extract_assays_with_threshold(mtx, assay_idx, pchembl_thresh, min_cpd_per_class=10):\n",
    "    mtx = mtx.tocsc()\n",
    "    # threshold\n",
    "    mtx.data[(mtx.data != 0) & (mtx.data < pchembl_thresh)] = -1\n",
    "    mtx.data[mtx.data >= pchembl_thresh] = 1\n",
    "    # min compounds per class\n",
    "    active = ((mtx == 1).sum(0) >= min_cpd_per_class).tolist()[0]\n",
    "    inactive = ((mtx == -1).sum(0) >= min_cpd_per_class).tolist()[0]\n",
    "    both = np.where([a and b for a, b in zip(active, inactive)])[0]\n",
    "    return mtx[:, both], assay_idx.iloc[both]\n",
    "\n",
    "def extract_assays_with_min_cpd_per_class(mtx, assay_idx, min_cpd_per_class=10):\n",
    "    mtx = mtx.tocsc()\n",
    "    active = ((mtx == 1).sum(0) >= min_cpd_per_class).tolist()[0]\n",
    "    inactive = ((mtx == -1).sum(0) >= min_cpd_per_class).tolist()[0]\n",
    "    both = np.where([a and b for a, b in zip(active, inactive)])[0]\n",
    "    return mtx[:, both], assay_idx.iloc[both]\n",
    "\n",
    "def remove_empty_compounds(mtx, cpd_idx):    \n",
    "    empty = set()\n",
    "    for i, row in enumerate(mtx.tolil().rows):\n",
    "        if len(row) == 0:\n",
    "            empty.add(i)\n",
    "    valid = [i for i in range(0, mtx.shape[0]) if i not in empty]\n",
    "    return mtx[valid, :], cpd_idx.iloc[valid].reset_index(level=0)"
   ]
  },
  {
   "cell_type": "code",
   "execution_count": 11,
   "id": "f6b4d895",
   "metadata": {},
   "outputs": [],
   "source": [
    "import pandas as pd\n",
    "lbl_reg5, assays_reg5 = extract_assays_with_threshold(reg_val, idx_reg_asy, 5.5, 0)\n",
    "lbl_reg6, assays_reg6 = extract_assays_with_threshold(reg_val, idx_reg_asy, 6.5, 0)\n",
    "lbl_reg7, assays_reg7 = extract_assays_with_threshold(reg_val, idx_reg_asy, 7.5, 0)\n",
    "lbl_reg = hstack([lbl_reg5, lbl_reg6, lbl_reg7])\n",
    "#assays_reg = assays_reg5.append(assays_reg6).append(assays_reg7)\n",
    "assays_reg = pd.concat([assays_reg5, assays_reg6, assays_reg7])\n",
    "lbl_cls, assays_cls = extract_assays_with_min_cpd_per_class(cls_val, idx_cls_asy, 0)\n",
    "lbl_cls.data[lbl_cls.data < -1] = -1\n",
    "lbl_cls.data[lbl_cls.data > 1] = 1\n",
    "#assay_idx = assays_reg5.append(assays_reg6).append(assays_reg7).append(assays_cls)\n",
    "assay_idx = pd.concat([assays_reg5, assays_reg6, assays_reg7, assays_cls])"
   ]
  },
  {
   "cell_type": "code",
   "execution_count": 12,
   "id": "cc590da9",
   "metadata": {},
   "outputs": [
    {
     "name": "stdout",
     "output_type": "stream",
     "text": [
      "1910/11601\r"
     ]
    },
    {
     "ename": "KeyboardInterrupt",
     "evalue": "",
     "output_type": "error",
     "traceback": [
      "\u001b[0;31m---------------------------------------------------------------------------\u001b[0m",
      "\u001b[0;31mKeyboardInterrupt\u001b[0m                         Traceback (most recent call last)",
      "Input \u001b[0;32mIn [12]\u001b[0m, in \u001b[0;36m<cell line: 10>\u001b[0;34m()\u001b[0m\n\u001b[1;32m     16\u001b[0m     \u001b[38;5;28;01mif\u001b[39;00m \u001b[38;5;129;01mnot\u001b[39;00m math\u001b[38;5;241m.\u001b[39misnan(idx_cls):\n\u001b[1;32m     17\u001b[0m         row_candidate[\u001b[38;5;241m0\u001b[39m, n_col_reg:] \u001b[38;5;241m=\u001b[39m lbl_cls[\u001b[38;5;28mint\u001b[39m(idx_cls)]\u001b[38;5;241m.\u001b[39mtodense()\n\u001b[0;32m---> 18\u001b[0m     mat_all[i] \u001b[38;5;241m=\u001b[39m row_candidate\n\u001b[1;32m     19\u001b[0m     \u001b[38;5;28mprint\u001b[39m(\u001b[38;5;124m\"\u001b[39m\u001b[38;5;132;01m{}\u001b[39;00m\u001b[38;5;124m/\u001b[39m\u001b[38;5;132;01m{}\u001b[39;00m\u001b[38;5;124m\"\u001b[39m\u001b[38;5;241m.\u001b[39mformat(i \u001b[38;5;241m+\u001b[39m \u001b[38;5;241m1\u001b[39m, \u001b[38;5;28mlen\u001b[39m(cls_reg_map)), end\u001b[38;5;241m=\u001b[39m\u001b[38;5;124m\"\u001b[39m\u001b[38;5;130;01m\\r\u001b[39;00m\u001b[38;5;124m\"\u001b[39m)\n\u001b[1;32m     20\u001b[0m mat_all, asy_all \u001b[38;5;241m=\u001b[39m extract_assays_with_min_cpd_per_class(mat_all, assay_idx, \u001b[38;5;241m10\u001b[39m)\n",
      "File \u001b[0;32m~/anaconda3/envs/myenv/lib/python3.9/site-packages/scipy/sparse/_index.py:146\u001b[0m, in \u001b[0;36mIndexMixin.__setitem__\u001b[0;34m(self, key, x)\u001b[0m\n\u001b[1;32m    144\u001b[0m     \u001b[38;5;28;01mreturn\u001b[39;00m\n\u001b[1;32m    145\u001b[0m x \u001b[38;5;241m=\u001b[39m x\u001b[38;5;241m.\u001b[39mreshape(i\u001b[38;5;241m.\u001b[39mshape)\n\u001b[0;32m--> 146\u001b[0m \u001b[38;5;28;43mself\u001b[39;49m\u001b[38;5;241;43m.\u001b[39;49m\u001b[43m_set_arrayXarray\u001b[49m\u001b[43m(\u001b[49m\u001b[43mi\u001b[49m\u001b[43m,\u001b[49m\u001b[43m \u001b[49m\u001b[43mj\u001b[49m\u001b[43m,\u001b[49m\u001b[43m \u001b[49m\u001b[43mx\u001b[49m\u001b[43m)\u001b[49m\n",
      "File \u001b[0;32m~/anaconda3/envs/myenv/lib/python3.9/site-packages/scipy/sparse/_dok.py:241\u001b[0m, in \u001b[0;36mdok_matrix._set_arrayXarray\u001b[0;34m(self, row, col, x)\u001b[0m\n\u001b[1;32m    239\u001b[0m \u001b[38;5;28;01mfor\u001b[39;00m i \u001b[38;5;129;01min\u001b[39;00m np\u001b[38;5;241m.\u001b[39mnonzero(x \u001b[38;5;241m==\u001b[39m \u001b[38;5;241m0\u001b[39m)[\u001b[38;5;241m0\u001b[39m]:\n\u001b[1;32m    240\u001b[0m     key \u001b[38;5;241m=\u001b[39m (row[i], col[i])\n\u001b[0;32m--> 241\u001b[0m     \u001b[38;5;28;01mif\u001b[39;00m \u001b[38;5;28;43mdict\u001b[39;49m\u001b[38;5;241;43m.\u001b[39;49m\u001b[38;5;21;43m__getitem__\u001b[39;49m\u001b[43m(\u001b[49m\u001b[38;5;28;43mself\u001b[39;49m\u001b[43m,\u001b[49m\u001b[43m \u001b[49m\u001b[43mkey\u001b[49m\u001b[43m)\u001b[49m \u001b[38;5;241m==\u001b[39m \u001b[38;5;241m0\u001b[39m:\n\u001b[1;32m    242\u001b[0m         \u001b[38;5;66;03m# may have been superseded by later update\u001b[39;00m\n\u001b[1;32m    243\u001b[0m         \u001b[38;5;28;01mdel\u001b[39;00m \u001b[38;5;28mself\u001b[39m[key]\n",
      "\u001b[0;31mKeyboardInterrupt\u001b[0m: "
     ]
    }
   ],
   "source": [
    "n_row = len(cls_reg_map)\n",
    "n_col_reg = lbl_reg.shape[1]\n",
    "n_col_cls = lbl_cls.shape[1]\n",
    "n_col = n_col_reg + n_col_cls\n",
    "mat_reg = reg_val.tocsr()\n",
    "mat_cls = cls_val.tocsr()\n",
    "mat_all = dok_matrix((n_row, n_col), dtype=np.int8)\n",
    "\n",
    "## Merge label matrices\n",
    "for i, row in enumerate(cls_reg_map.itertuples(index=False)):\n",
    "    idx_reg = row.INDEX_REG\n",
    "    idx_cls = row.INDEX_CLS\n",
    "    row_candidate = np.zeros((1, n_col), dtype=np.int8)\n",
    "    if not math.isnan(idx_reg):\n",
    "        row_candidate[0, 0:n_col_reg] = lbl_reg[int(idx_reg)].todense()\n",
    "    if not math.isnan(idx_cls):\n",
    "        row_candidate[0, n_col_reg:] = lbl_cls[int(idx_cls)].todense()\n",
    "    mat_all[i] = row_candidate\n",
    "    print(\"{}/{}\".format(i + 1, len(cls_reg_map)), end=\"\\r\")\n",
    "mat_all, asy_all = extract_assays_with_min_cpd_per_class(mat_all, assay_idx, 10)\n",
    "mat_all, cls_reg_map = remove_empty_compounds(mat_all, cls_reg_map)\n",
    "n_row = mat_all.shape[0]"
   ]
  },
  {
   "cell_type": "code",
   "execution_count": null,
   "id": "f00d1cc2",
   "metadata": {},
   "outputs": [],
   "source": [
    "mat_all.shape"
   ]
  },
  {
   "cell_type": "code",
   "execution_count": null,
   "id": "bbfae84f",
   "metadata": {},
   "outputs": [],
   "source": [
    "# produces matrix with inactive and active counts for each assay in the label matrix\n",
    "def print_assay_stats(mtx, verbose=True):\n",
    "    mtx_dense = mtx.todense()\n",
    "    stats = np.zeros((mtx_dense.shape[1], 2), dtype=np.int)\n",
    "    if verbose:\n",
    "        print(\"Assay\\tActive\\tInactive\")\n",
    "    for i, col in enumerate(mtx_dense.T):\n",
    "        uniques = np.unique(col.tolist(), return_counts=True)\n",
    "        vals = dict(zip(uniques[0], uniques[1]))\n",
    "        if not -1 in vals:\n",
    "            vals[-1] = 0\n",
    "        if not 1 in vals:\n",
    "            vals[1] = 0\n",
    "        stats[i] = [vals[-1], vals[1]]\n",
    "        if verbose:\n",
    "            print(\"{}\\t{}\\t{}\".format(asy_all.iloc[i][\"ASSAY_ID\"], stats[i][1], stats[i][0]))\n",
    "    return stats, asy_all.iloc[i][\"ASSAY_ID\"]"
   ]
  },
  {
   "cell_type": "code",
   "execution_count": null,
   "id": "26fc725b",
   "metadata": {},
   "outputs": [],
   "source": [
    "\n",
    "print(\"=== Stats ===\")\n",
    "print(\"Compounds: {}\".format(mat_all.shape[0]))\n",
    "print(\"Compound Index: {}\".format(cls_reg_map.shape[0]))\n",
    "print(\"Assays: {}\".format(mat_all.shape[1]))\n",
    "print(\"Assay Index: {}\".format(asy_all.shape[0]))\n",
    "print(\"Percentage Non-zero: {:.4f}\".format(mat_all.nnz / (mat_all.shape[0] * mat_all.shape[1])))\n",
    "print(\"\\n\")\n",
    "_\n",
    "stats, _ = print_assay_stats(mat_all)"
   ]
  }
 ],
 "metadata": {
  "kernelspec": {
   "display_name": "Python 3 (ipykernel)",
   "language": "python",
   "name": "python3"
  },
  "language_info": {
   "codemirror_mode": {
    "name": "ipython",
    "version": 3
   },
   "file_extension": ".py",
   "mimetype": "text/x-python",
   "name": "python",
   "nbconvert_exporter": "python",
   "pygments_lexer": "ipython3",
   "version": "3.9.13"
  }
 },
 "nbformat": 4,
 "nbformat_minor": 5
}
