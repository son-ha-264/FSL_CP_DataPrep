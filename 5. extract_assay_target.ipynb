{
 "cells": [
  {
   "cell_type": "code",
   "execution_count": 1,
   "metadata": {},
   "outputs": [],
   "source": [
    "import sqlite3\n",
    "import pandas as pd"
   ]
  },
  {
   "cell_type": "code",
   "execution_count": 2,
   "metadata": {},
   "outputs": [],
   "source": [
    "# Init path\n",
    "chembl_db_path = \"/home/son.ha/FSL_CP_DataPrep/sql/chembl_31_sqlite/chembl_31.db\""
   ]
  },
  {
   "cell_type": "code",
   "execution_count": 3,
   "metadata": {},
   "outputs": [],
   "source": [
    "# Query\n",
    "query_assay_target = \"SELECT DISTINCT ay.assay_id, t.chembl_id, t.target_type \" \\\n",
    "                                \"from assays ay, target_dictionary t \" \\\n",
    "                                \"where ay.tid = t.tid \""
   ]
  },
  {
   "cell_type": "code",
   "execution_count": 8,
   "metadata": {},
   "outputs": [
    {
     "data": {
      "text/html": [
       "<div>\n",
       "<style scoped>\n",
       "    .dataframe tbody tr th:only-of-type {\n",
       "        vertical-align: middle;\n",
       "    }\n",
       "\n",
       "    .dataframe tbody tr th {\n",
       "        vertical-align: top;\n",
       "    }\n",
       "\n",
       "    .dataframe thead th {\n",
       "        text-align: right;\n",
       "    }\n",
       "</style>\n",
       "<table border=\"1\" class=\"dataframe\">\n",
       "  <thead>\n",
       "    <tr style=\"text-align: right;\">\n",
       "      <th></th>\n",
       "      <th>ASSAY_ID</th>\n",
       "      <th>target_chembl_id</th>\n",
       "      <th>target_type</th>\n",
       "    </tr>\n",
       "  </thead>\n",
       "  <tbody>\n",
       "    <tr>\n",
       "      <th>0</th>\n",
       "      <td>1</td>\n",
       "      <td>CHEMBL2741</td>\n",
       "      <td>SINGLE PROTEIN</td>\n",
       "    </tr>\n",
       "    <tr>\n",
       "      <th>1</th>\n",
       "      <td>2</td>\n",
       "      <td>CHEMBL612545</td>\n",
       "      <td>UNCHECKED</td>\n",
       "    </tr>\n",
       "    <tr>\n",
       "      <th>2</th>\n",
       "      <td>3</td>\n",
       "      <td>CHEMBL2362975</td>\n",
       "      <td>NO TARGET</td>\n",
       "    </tr>\n",
       "    <tr>\n",
       "      <th>3</th>\n",
       "      <td>4</td>\n",
       "      <td>CHEMBL2094257</td>\n",
       "      <td>PROTEIN FAMILY</td>\n",
       "    </tr>\n",
       "    <tr>\n",
       "      <th>4</th>\n",
       "      <td>5</td>\n",
       "      <td>CHEMBL614508</td>\n",
       "      <td>CELL-LINE</td>\n",
       "    </tr>\n",
       "  </tbody>\n",
       "</table>\n",
       "</div>"
      ],
      "text/plain": [
       "   ASSAY_ID target_chembl_id     target_type\n",
       "0         1       CHEMBL2741  SINGLE PROTEIN\n",
       "1         2     CHEMBL612545       UNCHECKED\n",
       "2         3    CHEMBL2362975       NO TARGET\n",
       "3         4    CHEMBL2094257  PROTEIN FAMILY\n",
       "4         5     CHEMBL614508       CELL-LINE"
      ]
     },
     "execution_count": 8,
     "metadata": {},
     "output_type": "execute_result"
    }
   ],
   "source": [
    "# Fetch \n",
    "db = sqlite3.connect(chembl_db_path)\n",
    "cursor = db.cursor()\n",
    "myresult = cursor.execute(query_assay_target).fetchall()\n",
    "\n",
    "\n",
    "df_target = pd.DataFrame(myresult, columns=['ASSAY_ID', 'target_chembl_id', 'target_type'])\n",
    "df_target"
   ]
  },
  {
   "cell_type": "code",
   "execution_count": 6,
   "metadata": {},
   "outputs": [],
   "source": [
    "df_cp_assay = pd.read_csv(\"temp/chembl31-labels-assay-index.csv\")"
   ]
  },
  {
   "cell_type": "code",
   "execution_count": 9,
   "metadata": {},
   "outputs": [
    {
     "data": {
      "text/html": [
       "<div>\n",
       "<style scoped>\n",
       "    .dataframe tbody tr th:only-of-type {\n",
       "        vertical-align: middle;\n",
       "    }\n",
       "\n",
       "    .dataframe tbody tr th {\n",
       "        vertical-align: top;\n",
       "    }\n",
       "\n",
       "    .dataframe thead th {\n",
       "        text-align: right;\n",
       "    }\n",
       "</style>\n",
       "<table border=\"1\" class=\"dataframe\">\n",
       "  <thead>\n",
       "    <tr style=\"text-align: right;\">\n",
       "      <th></th>\n",
       "      <th>ASSAY_ID</th>\n",
       "      <th>target_chembl_id</th>\n",
       "      <th>target_type</th>\n",
       "    </tr>\n",
       "  </thead>\n",
       "  <tbody>\n",
       "    <tr>\n",
       "      <th>0</th>\n",
       "      <td>737823</td>\n",
       "      <td>CHEMBL3356</td>\n",
       "      <td>SINGLE PROTEIN</td>\n",
       "    </tr>\n",
       "    <tr>\n",
       "      <th>1</th>\n",
       "      <td>737824</td>\n",
       "      <td>CHEMBL3622</td>\n",
       "      <td>SINGLE PROTEIN</td>\n",
       "    </tr>\n",
       "    <tr>\n",
       "      <th>2</th>\n",
       "      <td>688422</td>\n",
       "      <td>CHEMBL1293235</td>\n",
       "      <td>SINGLE PROTEIN</td>\n",
       "    </tr>\n",
       "    <tr>\n",
       "      <th>3</th>\n",
       "      <td>688810</td>\n",
       "      <td>CHEMBL1615322</td>\n",
       "      <td>NUCLEIC-ACID</td>\n",
       "    </tr>\n",
       "    <tr>\n",
       "      <th>4</th>\n",
       "      <td>688812</td>\n",
       "      <td>CHEMBL1293294</td>\n",
       "      <td>SINGLE PROTEIN</td>\n",
       "    </tr>\n",
       "    <tr>\n",
       "      <th>...</th>\n",
       "      <td>...</td>\n",
       "      <td>...</td>\n",
       "      <td>...</td>\n",
       "    </tr>\n",
       "    <tr>\n",
       "      <th>196</th>\n",
       "      <td>1301866</td>\n",
       "      <td>CHEMBL612545</td>\n",
       "      <td>UNCHECKED</td>\n",
       "    </tr>\n",
       "    <tr>\n",
       "      <th>197</th>\n",
       "      <td>1301890</td>\n",
       "      <td>CHEMBL2029197</td>\n",
       "      <td>SINGLE PROTEIN</td>\n",
       "    </tr>\n",
       "    <tr>\n",
       "      <th>198</th>\n",
       "      <td>1301859</td>\n",
       "      <td>CHEMBL2029198</td>\n",
       "      <td>SINGLE PROTEIN</td>\n",
       "    </tr>\n",
       "    <tr>\n",
       "      <th>199</th>\n",
       "      <td>1301893</td>\n",
       "      <td>CHEMBL612545</td>\n",
       "      <td>UNCHECKED</td>\n",
       "    </tr>\n",
       "    <tr>\n",
       "      <th>200</th>\n",
       "      <td>1495346</td>\n",
       "      <td>CHEMBL612545</td>\n",
       "      <td>UNCHECKED</td>\n",
       "    </tr>\n",
       "  </tbody>\n",
       "</table>\n",
       "<p>201 rows × 3 columns</p>\n",
       "</div>"
      ],
      "text/plain": [
       "     ASSAY_ID target_chembl_id     target_type\n",
       "0      737823       CHEMBL3356  SINGLE PROTEIN\n",
       "1      737824       CHEMBL3622  SINGLE PROTEIN\n",
       "2      688422    CHEMBL1293235  SINGLE PROTEIN\n",
       "3      688810    CHEMBL1615322    NUCLEIC-ACID\n",
       "4      688812    CHEMBL1293294  SINGLE PROTEIN\n",
       "..        ...              ...             ...\n",
       "196   1301866     CHEMBL612545       UNCHECKED\n",
       "197   1301890    CHEMBL2029197  SINGLE PROTEIN\n",
       "198   1301859    CHEMBL2029198  SINGLE PROTEIN\n",
       "199   1301893     CHEMBL612545       UNCHECKED\n",
       "200   1495346     CHEMBL612545       UNCHECKED\n",
       "\n",
       "[201 rows x 3 columns]"
      ]
     },
     "execution_count": 9,
     "metadata": {},
     "output_type": "execute_result"
    }
   ],
   "source": [
    "df_merge = pd.merge(df_cp_assay, df_target, on=\"ASSAY_ID\", how=\"left\")\n",
    "df_merge"
   ]
  },
  {
   "cell_type": "code",
   "execution_count": 10,
   "metadata": {},
   "outputs": [
    {
     "data": {
      "text/plain": [
       "SINGLE PROTEIN     78\n",
       "CELL-LINE          69\n",
       "UNCHECKED          43\n",
       "ORGANISM            5\n",
       "PROTEIN COMPLEX     3\n",
       "NUCLEIC-ACID        2\n",
       "NON-MOLECULAR       1\n",
       "Name: target_type, dtype: int64"
      ]
     },
     "execution_count": 10,
     "metadata": {},
     "output_type": "execute_result"
    }
   ],
   "source": [
    "df_merge['target_type'].value_counts()"
   ]
  },
  {
   "cell_type": "code",
   "execution_count": 11,
   "metadata": {},
   "outputs": [],
   "source": [
    "df_merge.to_csv(\"output/assay_target_map.csv\", index=False)"
   ]
  }
 ],
 "metadata": {
  "kernelspec": {
   "display_name": "Python 3.9.13 ('myenv')",
   "language": "python",
   "name": "python3"
  },
  "language_info": {
   "codemirror_mode": {
    "name": "ipython",
    "version": 3
   },
   "file_extension": ".py",
   "mimetype": "text/x-python",
   "name": "python",
   "nbconvert_exporter": "python",
   "pygments_lexer": "ipython3",
   "version": "3.9.13"
  },
  "orig_nbformat": 4,
  "vscode": {
   "interpreter": {
    "hash": "10316af22c25afef02586b059330728af6980e41a2ff253fb3fe115ef68c8368"
   }
  }
 },
 "nbformat": 4,
 "nbformat_minor": 2
}
