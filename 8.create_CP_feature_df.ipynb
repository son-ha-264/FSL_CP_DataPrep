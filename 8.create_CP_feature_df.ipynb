{
 "cells": [
  {
   "cell_type": "markdown",
   "metadata": {},
   "source": [
    "## Make Cell Profiler Feature dataframe for only compounds which is also in ChEMBL"
   ]
  },
  {
   "cell_type": "code",
   "execution_count": 1,
   "metadata": {},
   "outputs": [],
   "source": [
    "import pandas as pd\n",
    "import numpy as np\n",
    "import jsonlines"
   ]
  },
  {
   "cell_type": "code",
   "execution_count": 2,
   "metadata": {},
   "outputs": [],
   "source": [
    "#Read df\n",
    "df_compound = pd.read_csv('temp/cp_inchi_smiles_map.csv')\n",
    "df_cp_profile = pd.read_csv('csv/processed_data_concat.csv')\n",
    "df_chem = pd.read_csv('csv/chemical_annotations.csv')\n",
    "df_chem = df_chem.rename(columns={\"BROAD_ID\":\"Metadata_broad_sample\"})"
   ]
  },
  {
   "cell_type": "code",
   "execution_count": 3,
   "metadata": {},
   "outputs": [],
   "source": [
    "# Create a \"SAMPLE_KEY\" columns\n",
    "def to_upper_add_dash(word):\n",
    "    return(\"-\"+word.upper())\n",
    "df_cp_profile[\"SAMPLE_KEY\"] = df_cp_profile[\"Metadata_Plate\"].astype(str) + df_cp_profile[\"Metadata_Well\"].apply(to_upper_add_dash)"
   ]
  },
  {
   "cell_type": "code",
   "execution_count": 4,
   "metadata": {},
   "outputs": [],
   "source": [
    "df_cp_profile_small = pd.concat([df_cp_profile[[\"Metadata_Plate\", \"Metadata_Well\", \"SAMPLE_KEY\", \"Metadata_broad_sample\"]], df_cp_profile.iloc[:,17:-1]], axis=1)"
   ]
  },
  {
   "cell_type": "code",
   "execution_count": 5,
   "metadata": {},
   "outputs": [],
   "source": [
    "df_merge_all = pd.merge(df_chem[['CPD_SMILES','Metadata_broad_sample']], df_cp_profile_small, on=\"Metadata_broad_sample\", how=\"right\")"
   ]
  },
  {
   "cell_type": "code",
   "execution_count": 6,
   "metadata": {},
   "outputs": [],
   "source": [
    "df_merge_cp_only = pd.merge(df_compound, df_merge_all, on=\"CPD_SMILES\", how=\"left\")"
   ]
  },
  {
   "cell_type": "code",
   "execution_count": 9,
   "metadata": {},
   "outputs": [],
   "source": [
    "df_merge_cp_only.sort_values(by=[\"Metadata_Plate\", \"Metadata_Well\"]).to_csv(\"output/CP_feature_df.csv\", index=False)"
   ]
  },
  {
   "cell_type": "code",
   "execution_count": 8,
   "metadata": {},
   "outputs": [],
   "source": [
    "df_merge_cp_only.sort_values(by=[\"Metadata_Plate\", \"Metadata_Well\"])[[\"INCHIKEY\", \"CPD_SMILES\", \"Metadata_broad_sample\", \"Metadata_Plate\", \"Metadata_Well\", \"SAMPLE_KEY\"]].to_csv(\"temp/cp_inchi_smiles_sample_key_map.csv\", index=False)"
   ]
  }
 ],
 "metadata": {
  "kernelspec": {
   "display_name": "Python 3.9.13 ('myenv')",
   "language": "python",
   "name": "python3"
  },
  "language_info": {
   "codemirror_mode": {
    "name": "ipython",
    "version": 3
   },
   "file_extension": ".py",
   "mimetype": "text/x-python",
   "name": "python",
   "nbconvert_exporter": "python",
   "pygments_lexer": "ipython3",
   "version": "3.9.13"
  },
  "orig_nbformat": 4,
  "vscode": {
   "interpreter": {
    "hash": "10316af22c25afef02586b059330728af6980e41a2ff253fb3fe115ef68c8368"
   }
  }
 },
 "nbformat": 4,
 "nbformat_minor": 2
}
