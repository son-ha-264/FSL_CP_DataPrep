{
 "cells": [
  {
   "cell_type": "code",
   "execution_count": 3,
   "metadata": {},
   "outputs": [],
   "source": [
    "import numpy as np\n",
    "import pandas as pd\n",
    "import scipy        "
   ]
  },
  {
   "cell_type": "code",
   "execution_count": 6,
   "metadata": {},
   "outputs": [],
   "source": [
    "assays_df = pd.read_csv('temp/chembl31-labels-assay-index.csv')\n",
    "compounds_df = pd.read_csv('temp/chembl31-labels-compound-index.csv')"
   ]
  },
  {
   "cell_type": "code",
   "execution_count": 14,
   "metadata": {},
   "outputs": [],
   "source": [
    "# Have to retrieve smiles from another csv\n",
    "df_with_smiles = pd.read_csv('temp/cellpainting-index.csv')"
   ]
  },
  {
   "cell_type": "code",
   "execution_count": 16,
   "metadata": {},
   "outputs": [
    {
     "data": {
      "text/html": [
       "<div>\n",
       "<style scoped>\n",
       "    .dataframe tbody tr th:only-of-type {\n",
       "        vertical-align: middle;\n",
       "    }\n",
       "\n",
       "    .dataframe tbody tr th {\n",
       "        vertical-align: top;\n",
       "    }\n",
       "\n",
       "    .dataframe thead th {\n",
       "        text-align: right;\n",
       "    }\n",
       "</style>\n",
       "<table border=\"1\" class=\"dataframe\">\n",
       "  <thead>\n",
       "    <tr style=\"text-align: right;\">\n",
       "      <th></th>\n",
       "      <th>INCHIKEY</th>\n",
       "      <th>CPD_SMILES</th>\n",
       "    </tr>\n",
       "  </thead>\n",
       "  <tbody>\n",
       "    <tr>\n",
       "      <th>0</th>\n",
       "      <td>PRTMXUMLGYLWPX-UHFFFAOYSA-N</td>\n",
       "      <td>Cc1ccccc1C(=O)NNC(=S)NC(=O)c1ccccc1</td>\n",
       "    </tr>\n",
       "    <tr>\n",
       "      <th>1</th>\n",
       "      <td>JQIGIYGSOWUONU-UHFFFAOYSA-N</td>\n",
       "      <td>Clc1ccc(Cn2nc(-c3ccccc3)c(cc2=O)N2CCCCC2)cc1</td>\n",
       "    </tr>\n",
       "    <tr>\n",
       "      <th>2</th>\n",
       "      <td>JBZPLGMTBVEFIZ-UHFFFAOYSA-N</td>\n",
       "      <td>COc1ccc(cc1)-c1c[n+]2CC(=C3CCCCn1c23)c1ccc(Br)cc1</td>\n",
       "    </tr>\n",
       "    <tr>\n",
       "      <th>3</th>\n",
       "      <td>UFNAEUOXECFKRF-UHFFFAOYSA-N</td>\n",
       "      <td>CC(C)NC(=O)ON=C(C)c1sc(nc1C)-c1ccccc1</td>\n",
       "    </tr>\n",
       "    <tr>\n",
       "      <th>4</th>\n",
       "      <td>PXIJCSZNPGOKCC-UHFFFAOYSA-O</td>\n",
       "      <td>CC\\C(Nc1ccccc1)=C/c1oc2cc3ccccc3cc2[n+]1CC</td>\n",
       "    </tr>\n",
       "    <tr>\n",
       "      <th>...</th>\n",
       "      <td>...</td>\n",
       "      <td>...</td>\n",
       "    </tr>\n",
       "    <tr>\n",
       "      <th>126793</th>\n",
       "      <td>DAHNEQAICFEUKA-RZIGYZOXSA-N</td>\n",
       "      <td>C[C@@H](CO)N1C[C@@H](C)[C@@H](CN(C)Cc2ccc(cc2)...</td>\n",
       "    </tr>\n",
       "    <tr>\n",
       "      <th>126794</th>\n",
       "      <td>DSHXGOUIOHRIOZ-DNVFCKCGSA-N</td>\n",
       "      <td>COc1ccc(CN(C)C[C@H]2OCc3cn(CCCC(=O)N(C[C@H]2C)...</td>\n",
       "    </tr>\n",
       "    <tr>\n",
       "      <th>126795</th>\n",
       "      <td>QVHCTLOUCAXGOY-UMEGOILYSA-N</td>\n",
       "      <td>C[C@H](CO)N1C[C@@H](C)[C@@H](CN(C)S(=O)(=O)c2c...</td>\n",
       "    </tr>\n",
       "    <tr>\n",
       "      <th>126796</th>\n",
       "      <td>DSHXGOUIOHRIOZ-YDHSSHFGSA-N</td>\n",
       "      <td>COc1ccc(CN(C)C[C@@H]2OCc3cn(CCCC(=O)N(C[C@@H]2...</td>\n",
       "    </tr>\n",
       "    <tr>\n",
       "      <th>126797</th>\n",
       "      <td>YNSZNIPNNMZZOV-HMFYCAOWSA-N</td>\n",
       "      <td>C[C@H](CO)N1C[C@@H](C)[C@H](CN(C)Cc2ccc(O)cc2)...</td>\n",
       "    </tr>\n",
       "  </tbody>\n",
       "</table>\n",
       "<p>126798 rows × 2 columns</p>\n",
       "</div>"
      ],
      "text/plain": [
       "                           INCHIKEY  \\\n",
       "0       PRTMXUMLGYLWPX-UHFFFAOYSA-N   \n",
       "1       JQIGIYGSOWUONU-UHFFFAOYSA-N   \n",
       "2       JBZPLGMTBVEFIZ-UHFFFAOYSA-N   \n",
       "3       UFNAEUOXECFKRF-UHFFFAOYSA-N   \n",
       "4       PXIJCSZNPGOKCC-UHFFFAOYSA-O   \n",
       "...                             ...   \n",
       "126793  DAHNEQAICFEUKA-RZIGYZOXSA-N   \n",
       "126794  DSHXGOUIOHRIOZ-DNVFCKCGSA-N   \n",
       "126795  QVHCTLOUCAXGOY-UMEGOILYSA-N   \n",
       "126796  DSHXGOUIOHRIOZ-YDHSSHFGSA-N   \n",
       "126797  YNSZNIPNNMZZOV-HMFYCAOWSA-N   \n",
       "\n",
       "                                               CPD_SMILES  \n",
       "0                     Cc1ccccc1C(=O)NNC(=S)NC(=O)c1ccccc1  \n",
       "1            Clc1ccc(Cn2nc(-c3ccccc3)c(cc2=O)N2CCCCC2)cc1  \n",
       "2       COc1ccc(cc1)-c1c[n+]2CC(=C3CCCCn1c23)c1ccc(Br)cc1  \n",
       "3                   CC(C)NC(=O)ON=C(C)c1sc(nc1C)-c1ccccc1  \n",
       "4              CC\\C(Nc1ccccc1)=C/c1oc2cc3ccccc3cc2[n+]1CC  \n",
       "...                                                   ...  \n",
       "126793  C[C@@H](CO)N1C[C@@H](C)[C@@H](CN(C)Cc2ccc(cc2)...  \n",
       "126794  COc1ccc(CN(C)C[C@H]2OCc3cn(CCCC(=O)N(C[C@H]2C)...  \n",
       "126795  C[C@H](CO)N1C[C@@H](C)[C@@H](CN(C)S(=O)(=O)c2c...  \n",
       "126796  COc1ccc(CN(C)C[C@@H]2OCc3cn(CCCC(=O)N(C[C@@H]2...  \n",
       "126797  C[C@H](CO)N1C[C@@H](C)[C@H](CN(C)Cc2ccc(O)cc2)...  \n",
       "\n",
       "[126798 rows x 2 columns]"
      ]
     },
     "execution_count": 16,
     "metadata": {},
     "output_type": "execute_result"
    }
   ],
   "source": [
    "df_with_smiles[[\"INCHIKEY\", \"CPD_SMILES\"]]"
   ]
  },
  {
   "cell_type": "code",
   "execution_count": 26,
   "metadata": {},
   "outputs": [],
   "source": [
    "cp_inchi_smiles_map = pd.merge(compounds_df[[\"INCHIKEY\"]], df_with_smiles[[\"INCHIKEY\", \"CPD_SMILES\"]], how=\"left\", on=\"INCHIKEY\").drop_duplicates(subset=\"INCHIKEY\")\n",
    "cp_inchi_smiles_map.to_csv(\"temp/cp_inchi_smiles_map.csv\", index=False)"
   ]
  },
  {
   "cell_type": "code",
   "execution_count": 5,
   "metadata": {},
   "outputs": [
    {
     "data": {
      "text/plain": [
       "<10526x201 sparse matrix of type '<class 'numpy.int64'>'\n",
       "\twith 54687 stored elements in COOrdinate format>"
      ]
     },
     "execution_count": 5,
     "metadata": {},
     "output_type": "execute_result"
    }
   ],
   "source": [
    "label_matrix = (scipy.io.mmread('temp/chembl31-label-matrix.mtx'))\n",
    "B = label_matrix.todense()\n",
    "df = pd.DataFrame\n"
   ]
  }
 ],
 "metadata": {
  "kernelspec": {
   "display_name": "Python 3.9.13 ('myenv')",
   "language": "python",
   "name": "python3"
  },
  "language_info": {
   "codemirror_mode": {
    "name": "ipython",
    "version": 3
   },
   "file_extension": ".py",
   "mimetype": "text/x-python",
   "name": "python",
   "nbconvert_exporter": "python",
   "pygments_lexer": "ipython3",
   "version": "3.9.13"
  },
  "orig_nbformat": 4,
  "vscode": {
   "interpreter": {
    "hash": "10316af22c25afef02586b059330728af6980e41a2ff253fb3fe115ef68c8368"
   }
  }
 },
 "nbformat": 4,
 "nbformat_minor": 2
}
