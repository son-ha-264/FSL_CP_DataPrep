{
 "cells": [
  {
   "cell_type": "code",
   "execution_count": 6,
   "metadata": {},
   "outputs": [],
   "source": [
    "import sqlite3\n",
    "import pandas as pd"
   ]
  },
  {
   "cell_type": "code",
   "execution_count": 7,
   "metadata": {},
   "outputs": [],
   "source": [
    "# Init path\n",
    "chembl_db_path = \"/home/son.ha/FSL_CP_DataPrep/sql/chembl_29_sqlite/chembl_29.db\""
   ]
  },
  {
   "cell_type": "code",
   "execution_count": 8,
   "metadata": {},
   "outputs": [],
   "source": [
    "# Query\n",
    "query_assay_target = \"SELECT DISTINCT ay.assay_id, t.chembl_id, t.target_type \" \\\n",
    "                                \"from assays ay, target_dictionary t \" \\\n",
    "                                \"where ay.tid = t.tid \""
   ]
  },
  {
   "cell_type": "code",
   "execution_count": 9,
   "metadata": {},
   "outputs": [
    {
     "data": {
      "text/html": [
       "<div>\n",
       "<style scoped>\n",
       "    .dataframe tbody tr th:only-of-type {\n",
       "        vertical-align: middle;\n",
       "    }\n",
       "\n",
       "    .dataframe tbody tr th {\n",
       "        vertical-align: top;\n",
       "    }\n",
       "\n",
       "    .dataframe thead th {\n",
       "        text-align: right;\n",
       "    }\n",
       "</style>\n",
       "<table border=\"1\" class=\"dataframe\">\n",
       "  <thead>\n",
       "    <tr style=\"text-align: right;\">\n",
       "      <th></th>\n",
       "      <th>assay_id</th>\n",
       "      <th>target_chembl_id</th>\n",
       "      <th>target_type</th>\n",
       "    </tr>\n",
       "  </thead>\n",
       "  <tbody>\n",
       "    <tr>\n",
       "      <th>0</th>\n",
       "      <td>1</td>\n",
       "      <td>CHEMBL2741</td>\n",
       "      <td>SINGLE PROTEIN</td>\n",
       "    </tr>\n",
       "    <tr>\n",
       "      <th>1</th>\n",
       "      <td>2</td>\n",
       "      <td>CHEMBL612545</td>\n",
       "      <td>UNCHECKED</td>\n",
       "    </tr>\n",
       "    <tr>\n",
       "      <th>2</th>\n",
       "      <td>3</td>\n",
       "      <td>CHEMBL2362975</td>\n",
       "      <td>NO TARGET</td>\n",
       "    </tr>\n",
       "    <tr>\n",
       "      <th>3</th>\n",
       "      <td>4</td>\n",
       "      <td>CHEMBL2094257</td>\n",
       "      <td>PROTEIN FAMILY</td>\n",
       "    </tr>\n",
       "    <tr>\n",
       "      <th>4</th>\n",
       "      <td>5</td>\n",
       "      <td>CHEMBL614508</td>\n",
       "      <td>CELL-LINE</td>\n",
       "    </tr>\n",
       "  </tbody>\n",
       "</table>\n",
       "</div>"
      ],
      "text/plain": [
       "   assay_id target_chembl_id     target_type\n",
       "0         1       CHEMBL2741  SINGLE PROTEIN\n",
       "1         2     CHEMBL612545       UNCHECKED\n",
       "2         3    CHEMBL2362975       NO TARGET\n",
       "3         4    CHEMBL2094257  PROTEIN FAMILY\n",
       "4         5     CHEMBL614508       CELL-LINE"
      ]
     },
     "execution_count": 9,
     "metadata": {},
     "output_type": "execute_result"
    }
   ],
   "source": [
    "# Fetch \n",
    "db = sqlite3.connect(chembl_db_path)\n",
    "cursor = db.cursor()\n",
    "myresult = cursor.execute(query_assay_target).fetchall()\n",
    "\n",
    "\n",
    "df_target = pd.DataFrame(myresult, columns=['assay_id', 'target_chembl_id', 'target_type'])\n",
    "df_target.head()"
   ]
  },
  {
   "cell_type": "code",
   "execution_count": 10,
   "metadata": {},
   "outputs": [
    {
     "data": {
      "text/html": [
       "<div>\n",
       "<style scoped>\n",
       "    .dataframe tbody tr th:only-of-type {\n",
       "        vertical-align: middle;\n",
       "    }\n",
       "\n",
       "    .dataframe tbody tr th {\n",
       "        vertical-align: top;\n",
       "    }\n",
       "\n",
       "    .dataframe thead th {\n",
       "        text-align: right;\n",
       "    }\n",
       "</style>\n",
       "<table border=\"1\" class=\"dataframe\">\n",
       "  <thead>\n",
       "    <tr style=\"text-align: right;\">\n",
       "      <th></th>\n",
       "      <th>assay_id</th>\n",
       "      <th>target_chembl_id</th>\n",
       "      <th>target_type</th>\n",
       "    </tr>\n",
       "  </thead>\n",
       "  <tbody>\n",
       "    <tr>\n",
       "      <th>0</th>\n",
       "      <td>1</td>\n",
       "      <td>CHEMBL2741</td>\n",
       "      <td>SINGLE PROTEIN</td>\n",
       "    </tr>\n",
       "    <tr>\n",
       "      <th>1</th>\n",
       "      <td>2</td>\n",
       "      <td>CHEMBL612545</td>\n",
       "      <td>UNCHECKED</td>\n",
       "    </tr>\n",
       "    <tr>\n",
       "      <th>2</th>\n",
       "      <td>3</td>\n",
       "      <td>CHEMBL2362975</td>\n",
       "      <td>NO TARGET</td>\n",
       "    </tr>\n",
       "    <tr>\n",
       "      <th>3</th>\n",
       "      <td>4</td>\n",
       "      <td>CHEMBL2094257</td>\n",
       "      <td>PROTEIN FAMILY</td>\n",
       "    </tr>\n",
       "    <tr>\n",
       "      <th>4</th>\n",
       "      <td>5</td>\n",
       "      <td>CHEMBL614508</td>\n",
       "      <td>CELL-LINE</td>\n",
       "    </tr>\n",
       "    <tr>\n",
       "      <th>...</th>\n",
       "      <td>...</td>\n",
       "      <td>...</td>\n",
       "      <td>...</td>\n",
       "    </tr>\n",
       "    <tr>\n",
       "      <th>1383548</th>\n",
       "      <td>1998350</td>\n",
       "      <td>CHEMBL3217390</td>\n",
       "      <td>SINGLE PROTEIN</td>\n",
       "    </tr>\n",
       "    <tr>\n",
       "      <th>1383549</th>\n",
       "      <td>1998351</td>\n",
       "      <td>CHEMBL3217390</td>\n",
       "      <td>SINGLE PROTEIN</td>\n",
       "    </tr>\n",
       "    <tr>\n",
       "      <th>1383550</th>\n",
       "      <td>1998352</td>\n",
       "      <td>CHEMBL3108641</td>\n",
       "      <td>SINGLE PROTEIN</td>\n",
       "    </tr>\n",
       "    <tr>\n",
       "      <th>1383551</th>\n",
       "      <td>1998353</td>\n",
       "      <td>CHEMBL3108638</td>\n",
       "      <td>SINGLE PROTEIN</td>\n",
       "    </tr>\n",
       "    <tr>\n",
       "      <th>1383552</th>\n",
       "      <td>1998354</td>\n",
       "      <td>CHEMBL3784</td>\n",
       "      <td>SINGLE PROTEIN</td>\n",
       "    </tr>\n",
       "  </tbody>\n",
       "</table>\n",
       "<p>1383553 rows × 3 columns</p>\n",
       "</div>"
      ],
      "text/plain": [
       "         assay_id target_chembl_id     target_type\n",
       "0               1       CHEMBL2741  SINGLE PROTEIN\n",
       "1               2     CHEMBL612545       UNCHECKED\n",
       "2               3    CHEMBL2362975       NO TARGET\n",
       "3               4    CHEMBL2094257  PROTEIN FAMILY\n",
       "4               5     CHEMBL614508       CELL-LINE\n",
       "...           ...              ...             ...\n",
       "1383548   1998350    CHEMBL3217390  SINGLE PROTEIN\n",
       "1383549   1998351    CHEMBL3217390  SINGLE PROTEIN\n",
       "1383550   1998352    CHEMBL3108641  SINGLE PROTEIN\n",
       "1383551   1998353    CHEMBL3108638  SINGLE PROTEIN\n",
       "1383552   1998354       CHEMBL3784  SINGLE PROTEIN\n",
       "\n",
       "[1383553 rows x 3 columns]"
      ]
     },
     "execution_count": 10,
     "metadata": {},
     "output_type": "execute_result"
    }
   ],
   "source": [
    "df_target"
   ]
  },
  {
   "cell_type": "code",
   "execution_count": null,
   "metadata": {},
   "outputs": [],
   "source": []
  }
 ],
 "metadata": {
  "kernelspec": {
   "display_name": "Python 3.9.13 ('myenv')",
   "language": "python",
   "name": "python3"
  },
  "language_info": {
   "codemirror_mode": {
    "name": "ipython",
    "version": 3
   },
   "file_extension": ".py",
   "mimetype": "text/x-python",
   "name": "python",
   "nbconvert_exporter": "python",
   "pygments_lexer": "ipython3",
   "version": "3.9.13"
  },
  "orig_nbformat": 4,
  "vscode": {
   "interpreter": {
    "hash": "10316af22c25afef02586b059330728af6980e41a2ff253fb3fe115ef68c8368"
   }
  }
 },
 "nbformat": 4,
 "nbformat_minor": 2
}
