{
 "cells": [
  {
   "cell_type": "code",
   "execution_count": 1,
   "metadata": {},
   "outputs": [],
   "source": [
    "import pandas as pd\n",
    "import numpy as np\n",
    "import jsonlines\n",
    "from tqdm import tqdm\n",
    "from scipy.io import mmread\n",
    "import os"
   ]
  },
  {
   "cell_type": "code",
   "execution_count": 2,
   "metadata": {},
   "outputs": [],
   "source": [
    "# Each duplicate well is 1 datapoint"
   ]
  },
  {
   "cell_type": "markdown",
   "metadata": {},
   "source": [
    "### Init"
   ]
  },
  {
   "cell_type": "code",
   "execution_count": 3,
   "metadata": {},
   "outputs": [],
   "source": [
    "image_folder = \"/mnt/scratch/Son_cellpainting/my_cp_images/\"\n",
    "jsonl_folder = \"/home/son.ha/FSL_CP_DataPrep/jsonl/\""
   ]
  },
  {
   "cell_type": "markdown",
   "metadata": {},
   "source": [
    "### Load data"
   ]
  },
  {
   "cell_type": "code",
   "execution_count": 4,
   "metadata": {},
   "outputs": [],
   "source": [
    "# Features\n",
    "CP_df = pd.read_csv('output/norm_CP_feature_df.csv')\n",
    "FP_df = pd.read_csv('output/norm_ECFP_feature_df.csv')\n",
    "RDKit_df = pd.read_csv('output/norm_RDKit_feature_df.csv')"
   ]
  },
  {
   "cell_type": "code",
   "execution_count": 5,
   "metadata": {},
   "outputs": [],
   "source": [
    "# Assert that inchikeys should be the same and have the same order\n",
    "assert CP_df['INCHIKEY'].equals(RDKit_df['INCHIKEY'])\n",
    "assert RDKit_df['INCHIKEY'].equals(FP_df['INCHIKEY'])"
   ]
  },
  {
   "cell_type": "code",
   "execution_count": 6,
   "metadata": {},
   "outputs": [],
   "source": [
    "# Assay Labels\n",
    "assay = pd.read_csv('output/label_df.csv', index_col=0)\n",
    "labels_with_dupl = pd.merge(FP_df[['INCHIKEY', 'CPD_SMILES', 'SAMPLE_KEY']].set_index('INCHIKEY'), assay, left_index=True, right_index=True)"
   ]
  },
  {
   "cell_type": "markdown",
   "metadata": {},
   "source": [
    "### Find out which views are missing from each well"
   ]
  },
  {
   "cell_type": "code",
   "execution_count": 7,
   "metadata": {},
   "outputs": [
    {
     "name": "stdout",
     "output_type": "stream",
     "text": [
      "There are 210 views missing across all wells\n"
     ]
    }
   ],
   "source": [
    "view_counts = {}\n",
    "for file in os.listdir(image_folder):\n",
    "    if file.endswith('.npz'):\n",
    "        sample_key = file[0:9]\n",
    "        view = file[-5:-4]\n",
    "        if sample_key not in view_counts.keys():\n",
    "            view_counts[sample_key] = [view]\n",
    "        else:\n",
    "            view_counts[sample_key].append(view)\n",
    "            view_counts[sample_key].sort()\n",
    "\n",
    "count_missing = 0\n",
    "for sample_key in view_counts.keys():\n",
    "    if len(view_counts[sample_key]) != 6:\n",
    "        #print(sample_key, view_counts[sample_key])\n",
    "        missing_num = 6-len(view_counts[sample_key])\n",
    "        count_missing += missing_num\n",
    "print(f\"There are {count_missing} views missing across all wells\") "
   ]
  },
  {
   "cell_type": "markdown",
   "metadata": {},
   "source": [
    "### Add a views column to the label dataframe"
   ]
  },
  {
   "cell_type": "code",
   "execution_count": 8,
   "metadata": {},
   "outputs": [],
   "source": [
    "def _retrieve_view(sample_key):\n",
    "    \"\"\"Helper function. Retrive a list of available views given sample key\"\"\"\n",
    "    return(view_counts[sample_key])\n",
    "\n",
    "labels_with_dupl['VIEWS'] = labels_with_dupl['SAMPLE_KEY'].apply(_retrieve_view)"
   ]
  },
  {
   "cell_type": "code",
   "execution_count": 9,
   "metadata": {},
   "outputs": [
    {
     "data": {
      "text/html": [
       "<div>\n",
       "<style scoped>\n",
       "    .dataframe tbody tr th:only-of-type {\n",
       "        vertical-align: middle;\n",
       "    }\n",
       "\n",
       "    .dataframe tbody tr th {\n",
       "        vertical-align: top;\n",
       "    }\n",
       "\n",
       "    .dataframe thead th {\n",
       "        text-align: right;\n",
       "    }\n",
       "</style>\n",
       "<table border=\"1\" class=\"dataframe\">\n",
       "  <thead>\n",
       "    <tr style=\"text-align: right;\">\n",
       "      <th></th>\n",
       "      <th>CPD_SMILES</th>\n",
       "      <th>SAMPLE_KEY</th>\n",
       "      <th>737823</th>\n",
       "      <th>737824</th>\n",
       "      <th>688422</th>\n",
       "      <th>688810</th>\n",
       "      <th>688812</th>\n",
       "      <th>688816</th>\n",
       "      <th>688724</th>\n",
       "      <th>688739</th>\n",
       "      <th>...</th>\n",
       "      <th>1301717</th>\n",
       "      <th>1301709</th>\n",
       "      <th>688671</th>\n",
       "      <th>845206</th>\n",
       "      <th>1301866</th>\n",
       "      <th>1301890</th>\n",
       "      <th>1301859</th>\n",
       "      <th>1301893</th>\n",
       "      <th>1495346</th>\n",
       "      <th>VIEWS</th>\n",
       "    </tr>\n",
       "  </thead>\n",
       "  <tbody>\n",
       "    <tr>\n",
       "      <th>BBIRKSILZBXBGJ-KDYSTLNUSA-N</th>\n",
       "      <td>OCc1ccc(CO[C@H]2C[C@H](C=C(O2)C(=O)NCc2nc3cccc...</td>\n",
       "      <td>25643-P14</td>\n",
       "      <td>1</td>\n",
       "      <td>0</td>\n",
       "      <td>1</td>\n",
       "      <td>-1</td>\n",
       "      <td>-1</td>\n",
       "      <td>-1</td>\n",
       "      <td>-1</td>\n",
       "      <td>1</td>\n",
       "      <td>...</td>\n",
       "      <td>-1</td>\n",
       "      <td>-1</td>\n",
       "      <td>-1</td>\n",
       "      <td>-1</td>\n",
       "      <td>-1</td>\n",
       "      <td>-1</td>\n",
       "      <td>-1</td>\n",
       "      <td>-1</td>\n",
       "      <td>-1</td>\n",
       "      <td>[1, 2, 3, 4, 5, 6]</td>\n",
       "    </tr>\n",
       "    <tr>\n",
       "      <th>BBIRKSILZBXBGJ-KDYSTLNUSA-N</th>\n",
       "      <td>OCc1ccc(CO[C@H]2C[C@H](C=C(O2)C(=O)NCc2nc3cccc...</td>\n",
       "      <td>25663-P14</td>\n",
       "      <td>1</td>\n",
       "      <td>0</td>\n",
       "      <td>1</td>\n",
       "      <td>-1</td>\n",
       "      <td>-1</td>\n",
       "      <td>-1</td>\n",
       "      <td>-1</td>\n",
       "      <td>1</td>\n",
       "      <td>...</td>\n",
       "      <td>-1</td>\n",
       "      <td>-1</td>\n",
       "      <td>-1</td>\n",
       "      <td>-1</td>\n",
       "      <td>-1</td>\n",
       "      <td>-1</td>\n",
       "      <td>-1</td>\n",
       "      <td>-1</td>\n",
       "      <td>-1</td>\n",
       "      <td>[1, 2, 3, 4, 5, 6]</td>\n",
       "    </tr>\n",
       "    <tr>\n",
       "      <th>BBIRKSILZBXBGJ-KDYSTLNUSA-N</th>\n",
       "      <td>OCc1ccc(CO[C@H]2C[C@H](C=C(O2)C(=O)NCc2nc3cccc...</td>\n",
       "      <td>25664-P14</td>\n",
       "      <td>1</td>\n",
       "      <td>0</td>\n",
       "      <td>1</td>\n",
       "      <td>-1</td>\n",
       "      <td>-1</td>\n",
       "      <td>-1</td>\n",
       "      <td>-1</td>\n",
       "      <td>1</td>\n",
       "      <td>...</td>\n",
       "      <td>-1</td>\n",
       "      <td>-1</td>\n",
       "      <td>-1</td>\n",
       "      <td>-1</td>\n",
       "      <td>-1</td>\n",
       "      <td>-1</td>\n",
       "      <td>-1</td>\n",
       "      <td>-1</td>\n",
       "      <td>-1</td>\n",
       "      <td>[1, 2, 3, 4, 5, 6]</td>\n",
       "    </tr>\n",
       "    <tr>\n",
       "      <th>BBIRKSILZBXBGJ-KDYSTLNUSA-N</th>\n",
       "      <td>OCc1ccc(CO[C@H]2C[C@H](C=C(O2)C(=O)NCc2nc3cccc...</td>\n",
       "      <td>25665-P14</td>\n",
       "      <td>1</td>\n",
       "      <td>0</td>\n",
       "      <td>1</td>\n",
       "      <td>-1</td>\n",
       "      <td>-1</td>\n",
       "      <td>-1</td>\n",
       "      <td>-1</td>\n",
       "      <td>1</td>\n",
       "      <td>...</td>\n",
       "      <td>-1</td>\n",
       "      <td>-1</td>\n",
       "      <td>-1</td>\n",
       "      <td>-1</td>\n",
       "      <td>-1</td>\n",
       "      <td>-1</td>\n",
       "      <td>-1</td>\n",
       "      <td>-1</td>\n",
       "      <td>-1</td>\n",
       "      <td>[1, 2, 3, 4, 5, 6]</td>\n",
       "    </tr>\n",
       "  </tbody>\n",
       "</table>\n",
       "<p>4 rows × 204 columns</p>\n",
       "</div>"
      ],
      "text/plain": [
       "                                                                    CPD_SMILES  \\\n",
       "BBIRKSILZBXBGJ-KDYSTLNUSA-N  OCc1ccc(CO[C@H]2C[C@H](C=C(O2)C(=O)NCc2nc3cccc...   \n",
       "BBIRKSILZBXBGJ-KDYSTLNUSA-N  OCc1ccc(CO[C@H]2C[C@H](C=C(O2)C(=O)NCc2nc3cccc...   \n",
       "BBIRKSILZBXBGJ-KDYSTLNUSA-N  OCc1ccc(CO[C@H]2C[C@H](C=C(O2)C(=O)NCc2nc3cccc...   \n",
       "BBIRKSILZBXBGJ-KDYSTLNUSA-N  OCc1ccc(CO[C@H]2C[C@H](C=C(O2)C(=O)NCc2nc3cccc...   \n",
       "\n",
       "                            SAMPLE_KEY  737823  737824  688422  688810  \\\n",
       "BBIRKSILZBXBGJ-KDYSTLNUSA-N  25643-P14       1       0       1      -1   \n",
       "BBIRKSILZBXBGJ-KDYSTLNUSA-N  25663-P14       1       0       1      -1   \n",
       "BBIRKSILZBXBGJ-KDYSTLNUSA-N  25664-P14       1       0       1      -1   \n",
       "BBIRKSILZBXBGJ-KDYSTLNUSA-N  25665-P14       1       0       1      -1   \n",
       "\n",
       "                             688812  688816  688724  688739  ...  1301717  \\\n",
       "BBIRKSILZBXBGJ-KDYSTLNUSA-N      -1      -1      -1       1  ...       -1   \n",
       "BBIRKSILZBXBGJ-KDYSTLNUSA-N      -1      -1      -1       1  ...       -1   \n",
       "BBIRKSILZBXBGJ-KDYSTLNUSA-N      -1      -1      -1       1  ...       -1   \n",
       "BBIRKSILZBXBGJ-KDYSTLNUSA-N      -1      -1      -1       1  ...       -1   \n",
       "\n",
       "                             1301709  688671  845206  1301866  1301890  \\\n",
       "BBIRKSILZBXBGJ-KDYSTLNUSA-N       -1      -1      -1       -1       -1   \n",
       "BBIRKSILZBXBGJ-KDYSTLNUSA-N       -1      -1      -1       -1       -1   \n",
       "BBIRKSILZBXBGJ-KDYSTLNUSA-N       -1      -1      -1       -1       -1   \n",
       "BBIRKSILZBXBGJ-KDYSTLNUSA-N       -1      -1      -1       -1       -1   \n",
       "\n",
       "                             1301859  1301893  1495346               VIEWS  \n",
       "BBIRKSILZBXBGJ-KDYSTLNUSA-N       -1       -1       -1  [1, 2, 3, 4, 5, 6]  \n",
       "BBIRKSILZBXBGJ-KDYSTLNUSA-N       -1       -1       -1  [1, 2, 3, 4, 5, 6]  \n",
       "BBIRKSILZBXBGJ-KDYSTLNUSA-N       -1       -1       -1  [1, 2, 3, 4, 5, 6]  \n",
       "BBIRKSILZBXBGJ-KDYSTLNUSA-N       -1       -1       -1  [1, 2, 3, 4, 5, 6]  \n",
       "\n",
       "[4 rows x 204 columns]"
      ]
     },
     "execution_count": 9,
     "metadata": {},
     "output_type": "execute_result"
    }
   ],
   "source": [
    "labels_with_dupl.loc[labels_with_dupl.loc[:, ['CPD_SMILES', 'SAMPLE_KEY', labels_with_dupl.columns[3]]].replace(-1, np.NaN).dropna().index[1]]"
   ]
  },
  {
   "cell_type": "code",
   "execution_count": 10,
   "metadata": {},
   "outputs": [
    {
     "name": "stderr",
     "output_type": "stream",
     "text": [
      "100%|██████████| 201/201 [11:11<00:00,  3.34s/it]\n"
     ]
    }
   ],
   "source": [
    "for column in tqdm(labels_with_dupl.columns[2:-1]):\n",
    "    items = []\n",
    "    # Iterate through each column, remove NA\n",
    "    temp_df = labels_with_dupl.loc[:, ['CPD_SMILES', 'SAMPLE_KEY', 'VIEWS', column]].replace(-1, np.NaN).dropna()\n",
    "    for i in range(len(temp_df)):\n",
    "        temp_dict = {\n",
    "            'SMILES': temp_df.iloc[i,0],\n",
    "            'INCHIKEY': temp_df.index[i],\n",
    "            'SAMPLE_KEY': temp_df.iloc[i,1],\n",
    "            'VIEWS':temp_df.iloc[i,2],\n",
    "            'NUM_ROW_CP_FEATURES':int(CP_df.loc[CP_df['SAMPLE_KEY']==temp_df.iloc[i,1]].index[0]),\n",
    "            'LABEL': int(temp_df.iloc[i,3])\n",
    "        }\n",
    "        items.append(temp_dict)\n",
    "    with jsonlines.open(jsonl_folder+column+'.jsonl', 'w') as writer:\n",
    "        writer.write_all(items)"
   ]
  }
 ],
 "metadata": {
  "kernelspec": {
   "display_name": "Python 3 (ipykernel)",
   "language": "python",
   "name": "python3"
  },
  "language_info": {
   "codemirror_mode": {
    "name": "ipython",
    "version": 3
   },
   "file_extension": ".py",
   "mimetype": "text/x-python",
   "name": "python",
   "nbconvert_exporter": "python",
   "pygments_lexer": "ipython3",
   "version": "3.9.13"
  },
  "vscode": {
   "interpreter": {
    "hash": "10316af22c25afef02586b059330728af6980e41a2ff253fb3fe115ef68c8368"
   }
  }
 },
 "nbformat": 4,
 "nbformat_minor": 2
}
